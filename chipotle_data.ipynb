{
 "cells": [
  {
   "cell_type": "code",
   "execution_count": null,
   "id": "af9596fd",
   "metadata": {},
   "outputs": [],
   "source": [
    "import pandas\n",
    "import seaborn\n",
    "import matplotlib.pyplot as plt\n",
    "\n",
    "url = 'https://raw.githubusercontent.com/justmarkham/DAT8/master/data/chipotle.tsv'\n",
    "\n",
    "chipotle_data = pandas.read_csv(url, sep='\\t')\n",
    "\n",
    "chipotle_data.head()\n",
    "\n",
    "chipotle_data.info()"
   ]
  },
  {
   "cell_type": "code",
   "execution_count": null,
   "id": "211fced8",
   "metadata": {},
   "outputs": [],
   "source": [
    "chipotle_data.describe()"
   ]
  },
  {
   "cell_type": "code",
   "execution_count": null,
   "id": "eb6aef8e",
   "metadata": {},
   "outputs": [],
   "source": [
    "chipotle_data.groupby('item_name')['quantity'].nlargest(1)"
   ]
  },
  {
   "cell_type": "code",
   "execution_count": null,
   "id": "21391ef8",
   "metadata": {},
   "outputs": [],
   "source": [
    "#Finds the most ordered item in the Chipotle dataset and how many exactly\n",
    "most_ordered_item = chipotle_data.groupby('item_name')['quantity'].sum().sort_values(ascending=False).head(1)\n",
    "print(most_ordered_item)"
   ]
  },
  {
   "cell_type": "code",
   "execution_count": null,
   "id": "3654f5b9",
   "metadata": {},
   "outputs": [],
   "source": [
    "#Finds total revenue generated from the Chipotle dataset\n",
    "chipotle_data['item_price'] = chipotle_data['item_price'].replace('[\\$]', '', regex=True).astype(float)\n",
    "chipotle_data['total_price'] = chipotle_data['item_price'] * chipotle_data['quantity']\n",
    "total_revenue = chipotle_data['total_price'].sum()\n",
    "print(\"Total revenue: $\" + str(total_revenue))"
   ]
  },
  {
   "cell_type": "code",
   "execution_count": null,
   "id": "6cfece93",
   "metadata": {},
   "outputs": [],
   "source": [
    "#Finds the total number of orders placed in the Chipotle dataset\n",
    "# This counts the unique order IDs to determine the total number of orders\n",
    "total_orders_placed = chipotle_data['order_id'].nunique()\n",
    "print(\"Total orders placed: \" + str(total_orders_placed))"
   ]
  },
  {
   "cell_type": "code",
   "execution_count": null,
   "id": "d7398ee0",
   "metadata": {},
   "outputs": [],
   "source": [
    "# Finds the number of orders with item price greater than $10\n",
    "\n",
    "orders_more_than_ten = chipotle_data[chipotle_data['item_price'] > 10]\n",
    "print(\"Orders with item price greater than $10: \" + str(len(orders_more_than_ten)))"
   ]
  },
  {
   "cell_type": "code",
   "execution_count": null,
   "id": "67c8226b",
   "metadata": {},
   "outputs": [],
   "source": [
    "chipotle_data['item_name'].unique()"
   ]
  },
  {
   "cell_type": "code",
   "execution_count": null,
   "id": "4776a4fe",
   "metadata": {},
   "outputs": [],
   "source": [
    "#Creates a bar graph of the top 5 most ordered menu items\n",
    "\n",
    "top_five_items_sold = chipotle_data.groupby('item_name')['quantity'].max().nlargest(5)\n",
    "\n",
    "data = top_five_items_sold.reset_index()\n",
    "\n",
    "seaborn.barplot(x='item_name', y='quantity', data = data)\n",
    "plt.title(\"Top 5 Most Ordered Menu Items (per unit)\")\n",
    "plt.xlabel('Item Name')\n",
    "plt.ylabel(\"Quantity Sold\")\n",
    "plt.xticks(rotation=45, ha = 'right')\n",
    "plt.tight_layout()\n",
    "plt.show()"
   ]
  },
  {
   "cell_type": "code",
   "execution_count": null,
   "id": "d8071318",
   "metadata": {},
   "outputs": [],
   "source": [
    "top10 = chipotle_data.groupby('item_name')['quantity'].sum().nlargest(10)\n",
    "\n",
    "top10_counts = top10.groupby('item_name')['quantity'].sum().nlargest(10)\n",
    "\n",
    "plt.pie(top10_counts,labels = top10_counts.index, autopct='%1.1f%%')\n",
    "plt.title(\"Top 10 Items Ordered\")\n",
    "plt.tight_layout()\n",
    "plt.show()"
   ]
  }
 ],
 "metadata": {
  "kernelspec": {
   "display_name": "Python 3",
   "language": "python",
   "name": "python3"
  },
  "language_info": {
   "codemirror_mode": {
    "name": "ipython",
    "version": 3
   },
   "file_extension": ".py",
   "mimetype": "text/x-python",
   "name": "python",
   "nbconvert_exporter": "python",
   "pygments_lexer": "ipython3",
   "version": "3.13.4"
  }
 },
 "nbformat": 4,
 "nbformat_minor": 5
}
